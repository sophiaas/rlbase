{
 "cells": [
  {
   "cell_type": "code",
   "execution_count": 15,
   "metadata": {},
   "outputs": [
    {
     "data": {
      "application/javascript": [
       "IPython.OutputArea.prototype._should_scroll = function(lines) {\n",
       "    return false;\n",
       "}"
      ],
      "text/plain": [
       "<IPython.core.display.Javascript object>"
      ]
     },
     "metadata": {},
     "output_type": "display_data"
    }
   ],
   "source": [
    "%%javascript\n",
    "IPython.OutputArea.prototype._should_scroll = function(lines) {\n",
    "    return false;\n",
    "}"
   ]
  },
  {
   "cell_type": "code",
   "execution_count": 16,
   "metadata": {},
   "outputs": [],
   "source": [
    "from core.analysis import load_episode_data\n",
    "# from utils.hierarchical_sparse_compressor import HierarchicalSparseCompressor\n",
    "from configs.ssc import all_configs\n",
    "import numpy as np\n",
    "import matplotlib\n",
    "%matplotlib inline\n",
    "import matplotlib.pyplot as plt\n",
    "import os\n",
    "import pandas as pd\n",
    "import collections\n",
    "import seaborn as sns"
   ]
  },
  {
   "cell_type": "code",
   "execution_count": 17,
   "metadata": {},
   "outputs": [],
   "source": [
    "dirs = [\n",
    "    'ssc_lightbot_minigrid_fractal_cross_1_seed1',\n",
    "    'ssc_lightbot_minigrid_fractal_cross_1_seed2',\n",
    "    'ssc_lightbot_minigrid_fractal_cross_1_seed3',\n",
    "    'ssc_lightbot_minigrid_fractal_cross_1_seed4',\n",
    "    'ssc_lightbot_minigrid_fractal_cross_1_seed5'\n",
    "]"
   ]
  },
  {
   "cell_type": "code",
   "execution_count": null,
   "metadata": {},
   "outputs": [],
   "source": [
    "dirs = [\n",
    "    'ssc_lightbot_minigrid_fractal_cross_1_seed1',\n",
    "    'ssc_lightbot_minigrid_fractal_cross_1_seed2',\n",
    "    'ssc_lightbot_minigrid_fractal_cross_1_seed3',\n",
    "    'ssc_lightbot_minigrid_fractal_cross_1_seed4',\n",
    "    'ssc_lightbot_minigrid_fractal_cross_1_seed5'\n",
    "]"
   ]
  },
  {
   "cell_type": "code",
   "execution_count": 25,
   "metadata": {},
   "outputs": [
    {
     "data": {
      "text/html": [
       "<div>\n",
       "<style scoped>\n",
       "    .dataframe tbody tr th:only-of-type {\n",
       "        vertical-align: middle;\n",
       "    }\n",
       "\n",
       "    .dataframe tbody tr th {\n",
       "        vertical-align: top;\n",
       "    }\n",
       "\n",
       "    .dataframe thead th {\n",
       "        text-align: right;\n",
       "    }\n",
       "</style>\n",
       "<table border=\"1\" class=\"dataframe\">\n",
       "  <thead>\n",
       "    <tr style=\"text-align: right;\">\n",
       "      <th></th>\n",
       "      <th>moves</th>\n",
       "      <th>return</th>\n",
       "      <th>steps</th>\n",
       "      <th>model</th>\n",
       "      <th>episode</th>\n",
       "    </tr>\n",
       "  </thead>\n",
       "  <tbody>\n",
       "    <tr>\n",
       "      <td>0</td>\n",
       "      <td>2572.0</td>\n",
       "      <td>-2022.0</td>\n",
       "      <td>2123.0</td>\n",
       "      <td>SSC</td>\n",
       "      <td>0</td>\n",
       "    </tr>\n",
       "    <tr>\n",
       "      <td>1</td>\n",
       "      <td>3088.0</td>\n",
       "      <td>-2432.0</td>\n",
       "      <td>4656.0</td>\n",
       "      <td>SSC</td>\n",
       "      <td>1</td>\n",
       "    </tr>\n",
       "    <tr>\n",
       "      <td>2</td>\n",
       "      <td>3684.0</td>\n",
       "      <td>-2934.0</td>\n",
       "      <td>7695.0</td>\n",
       "      <td>SSC</td>\n",
       "      <td>2</td>\n",
       "    </tr>\n",
       "    <tr>\n",
       "      <td>3</td>\n",
       "      <td>4725.0</td>\n",
       "      <td>-3764.0</td>\n",
       "      <td>11564.0</td>\n",
       "      <td>SSC</td>\n",
       "      <td>3</td>\n",
       "    </tr>\n",
       "    <tr>\n",
       "      <td>4</td>\n",
       "      <td>2029.0</td>\n",
       "      <td>-1583.0</td>\n",
       "      <td>13248.0</td>\n",
       "      <td>SSC</td>\n",
       "      <td>4</td>\n",
       "    </tr>\n",
       "    <tr>\n",
       "      <td>...</td>\n",
       "      <td>...</td>\n",
       "      <td>...</td>\n",
       "      <td>...</td>\n",
       "      <td>...</td>\n",
       "      <td>...</td>\n",
       "    </tr>\n",
       "    <tr>\n",
       "      <td>875</td>\n",
       "      <td>986.0</td>\n",
       "      <td>-392.0</td>\n",
       "      <td>983346.0</td>\n",
       "      <td>SSC</td>\n",
       "      <td>875</td>\n",
       "    </tr>\n",
       "    <tr>\n",
       "      <td>876</td>\n",
       "      <td>1210.0</td>\n",
       "      <td>-504.0</td>\n",
       "      <td>983951.0</td>\n",
       "      <td>SSC</td>\n",
       "      <td>876</td>\n",
       "    </tr>\n",
       "    <tr>\n",
       "      <td>877</td>\n",
       "      <td>742.0</td>\n",
       "      <td>-270.0</td>\n",
       "      <td>984322.0</td>\n",
       "      <td>SSC</td>\n",
       "      <td>877</td>\n",
       "    </tr>\n",
       "    <tr>\n",
       "      <td>878</td>\n",
       "      <td>1250.0</td>\n",
       "      <td>-524.0</td>\n",
       "      <td>984947.0</td>\n",
       "      <td>SSC</td>\n",
       "      <td>878</td>\n",
       "    </tr>\n",
       "    <tr>\n",
       "      <td>879</td>\n",
       "      <td>1695.0</td>\n",
       "      <td>-747.0</td>\n",
       "      <td>985795.0</td>\n",
       "      <td>SSC</td>\n",
       "      <td>879</td>\n",
       "    </tr>\n",
       "  </tbody>\n",
       "</table>\n",
       "<p>880 rows × 5 columns</p>\n",
       "</div>"
      ],
      "text/plain": [
       "      moves  return     steps model  episode\n",
       "0    2572.0 -2022.0    2123.0   SSC        0\n",
       "1    3088.0 -2432.0    4656.0   SSC        1\n",
       "2    3684.0 -2934.0    7695.0   SSC        2\n",
       "3    4725.0 -3764.0   11564.0   SSC        3\n",
       "4    2029.0 -1583.0   13248.0   SSC        4\n",
       "..      ...     ...       ...   ...      ...\n",
       "875   986.0  -392.0  983346.0   SSC      875\n",
       "876  1210.0  -504.0  983951.0   SSC      876\n",
       "877   742.0  -270.0  984322.0   SSC      877\n",
       "878  1250.0  -524.0  984947.0   SSC      878\n",
       "879  1695.0  -747.0  985795.0   SSC      879\n",
       "\n",
       "[880 rows x 5 columns]"
      ]
     },
     "execution_count": 25,
     "metadata": {},
     "output_type": "execute_result"
    }
   ],
   "source": [
    "data"
   ]
  },
  {
   "cell_type": "code",
   "execution_count": 24,
   "metadata": {},
   "outputs": [],
   "source": [
    "df = pd.DataFrame()\n",
    "for d in dirs:\n",
    "    data = pd.read_pickle('../experiments/'+d+'/summary.p')[::10]\n",
    "    data['model'] = ['SSC'] * len(data)\n",
    "    data['episode'] = list(range(len(data)))\n",
    "    df = df.append(data, ignore_index=True)"
   ]
  },
  {
   "cell_type": "code",
   "execution_count": 30,
   "metadata": {},
   "outputs": [
    {
     "data": {
      "text/plain": [
       "2123.0"
      ]
     },
     "execution_count": 30,
     "metadata": {},
     "output_type": "execute_result"
    }
   ],
   "source": [
    "data.steps.min()"
   ]
  },
  {
   "cell_type": "code",
   "execution_count": 40,
   "metadata": {},
   "outputs": [],
   "source": [
    "f = os.listdir('../experiments/upper_timestep_ssc_hanoi_3disks_seed2/episodes/')"
   ]
  },
  {
   "cell_type": "code",
   "execution_count": 31,
   "metadata": {},
   "outputs": [],
   "source": [
    "def smooth_data(data):\n",
    "    new_steps = []\n",
    "    new_reward = []\n",
    "    min_steps = data.steps.min()\n",
    "    max_steps = data.steps.max()\n",
    "    intervals = list(range(0,max_steps%1000, 1000))\n",
    "    for i, row in data.iterrows():\n",
    "        if row."
   ]
  },
  {
   "cell_type": "code",
   "execution_count": 26,
   "metadata": {},
   "outputs": [
    {
     "name": "stderr",
     "output_type": "stream",
     "text": [
      "/home/ec2-user/anaconda3/envs/deeprl/lib/python3.6/site-packages/scipy/stats/stats.py:1713: FutureWarning: Using a non-tuple sequence for multidimensional indexing is deprecated; use `arr[tuple(seq)]` instead of `arr[seq]`. In the future this will be interpreted as an array index, `arr[np.array(seq)]`, which will result either in an error or a different result.\n",
      "  return np.add.reduce(sorted[indexer] * weights, axis=axis) / sumval\n"
     ]
    },
    {
     "data": {
      "text/plain": [
       "<matplotlib.axes._subplots.AxesSubplot at 0x7f8f629c9860>"
      ]
     },
     "execution_count": 26,
     "metadata": {},
     "output_type": "execute_result"
    },
    {
     "data": {
      "image/png": "[encoded data removed]",
      "text/plain": [
       "<Figure size 432x288 with 1 Axes>"
      ]
     },
     "metadata": {},
     "output_type": "display_data"
    }
   ],
   "source": [
    "sns.lineplot(data=df, x='episode', y='return')"
   ]
  },
  {
   "cell_type": "code",
   "execution_count": null,
   "metadata": {},
   "outputs": [],
   "source": [
    "sns.lineplot(data=df, x='episode', y='return')"
   ]
  }
 ],
 "metadata": {
  "kernelspec": {
   "display_name": "Environment (conda_deeprl)",
   "language": "python",
   "name": "conda_deeprl"
  },
  "language_info": {
   "codemirror_mode": {
    "name": "ipython",
    "version": 3
   },
   "file_extension": ".py",
   "mimetype": "text/x-python",
   "name": "python",
   "nbconvert_exporter": "python",
   "pygments_lexer": "ipython3",
   "version": "3.6.5"
  }
 },
 "nbformat": 4,
 "nbformat_minor": 2
}
