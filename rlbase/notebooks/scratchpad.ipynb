{
 "cells": [
  {
   "cell_type": "code",
   "execution_count": 7,
   "metadata": {},
   "outputs": [],
   "source": [
    "import pandas as pd\n",
    "import numpy as np\n",
    "import matplotlib.pyplot as plt\n",
    "import os\n",
    "%matplotlib inline"
   ]
  },
  {
   "cell_type": "code",
   "execution_count": 8,
   "metadata": {},
   "outputs": [],
   "source": [
    "def load_episode_data(directory):\n",
    "    files = [f for f in os.listdir(directory) if os.path.isfile(directory+f)]\n",
    "    episode_data = pd.DataFrame()\n",
    "    for f in files:\n",
    "        episode_data = episode_data.append(pd.read_pickle(directory+f), ignore_index=True)\n",
    "    episode_data = episode_data.sort_values('episode')\n",
    "    episode_data = episode_data.reset_index(drop=True)\n",
    "    episode_data.episode = [int(x) for x in episode_data.episode]\n",
    "#     episode_data = episode_data[['episode', 'action', 'reward', 'state', 'logprob', 'mask']]\n",
    "    return episode_data"
   ]
  },
  {
   "cell_type": "code",
   "execution_count": 4,
   "metadata": {},
   "outputs": [],
   "source": [
    "summary = pd.read_pickle('../experiments/ppoc_lightbot_newloss/summary.p')"
   ]
  },
  {
   "cell_type": "code",
   "execution_count": 5,
   "metadata": {},
   "outputs": [
    {
     "data": {
      "text/html": [
       "<div>\n",
       "<style scoped>\n",
       "    .dataframe tbody tr th:only-of-type {\n",
       "        vertical-align: middle;\n",
       "    }\n",
       "\n",
       "    .dataframe tbody tr th {\n",
       "        vertical-align: top;\n",
       "    }\n",
       "\n",
       "    .dataframe thead th {\n",
       "        text-align: right;\n",
       "    }\n",
       "</style>\n",
       "<table border=\"1\" class=\"dataframe\">\n",
       "  <thead>\n",
       "    <tr style=\"text-align: right;\">\n",
       "      <th></th>\n",
       "      <th>episode</th>\n",
       "      <th>running_moves</th>\n",
       "      <th>running_rewards</th>\n",
       "    </tr>\n",
       "  </thead>\n",
       "  <tbody>\n",
       "    <tr>\n",
       "      <th>0</th>\n",
       "      <td>1.0</td>\n",
       "      <td>110.000000</td>\n",
       "      <td>-10.000000</td>\n",
       "    </tr>\n",
       "    <tr>\n",
       "      <th>1</th>\n",
       "      <td>2.0</td>\n",
       "      <td>111.890000</td>\n",
       "      <td>-12.900000</td>\n",
       "    </tr>\n",
       "    <tr>\n",
       "      <th>2</th>\n",
       "      <td>3.0</td>\n",
       "      <td>113.761100</td>\n",
       "      <td>-15.771000</td>\n",
       "    </tr>\n",
       "    <tr>\n",
       "      <th>3</th>\n",
       "      <td>4.0</td>\n",
       "      <td>114.953489</td>\n",
       "      <td>-16.943290</td>\n",
       "    </tr>\n",
       "    <tr>\n",
       "      <th>4</th>\n",
       "      <td>5.0</td>\n",
       "      <td>116.793954</td>\n",
       "      <td>-19.773857</td>\n",
       "    </tr>\n",
       "  </tbody>\n",
       "</table>\n",
       "</div>"
      ],
      "text/plain": [
       "   episode  running_moves  running_rewards\n",
       "0      1.0     110.000000       -10.000000\n",
       "1      2.0     111.890000       -12.900000\n",
       "2      3.0     113.761100       -15.771000\n",
       "3      4.0     114.953489       -16.943290\n",
       "4      5.0     116.793954       -19.773857"
      ]
     },
     "execution_count": 5,
     "metadata": {},
     "output_type": "execute_result"
    }
   ],
   "source": [
    "summary.head()"
   ]
  },
  {
   "cell_type": "code",
   "execution_count": 9,
   "metadata": {},
   "outputs": [],
   "source": [
    "ed = load_episode_data('../experiments/ppoc_lightbot_newloss/episodes/')"
   ]
  },
  {
   "cell_type": "code",
   "execution_count": 10,
   "metadata": {},
   "outputs": [
    {
     "data": {
      "text/html": [
       "<div>\n",
       "<style scoped>\n",
       "    .dataframe tbody tr th:only-of-type {\n",
       "        vertical-align: middle;\n",
       "    }\n",
       "\n",
       "    .dataframe tbody tr th {\n",
       "        vertical-align: top;\n",
       "    }\n",
       "\n",
       "    .dataframe thead th {\n",
       "        text-align: right;\n",
       "    }\n",
       "</style>\n",
       "<table border=\"1\" class=\"dataframe\">\n",
       "  <thead>\n",
       "    <tr style=\"text-align: right;\">\n",
       "      <th></th>\n",
       "      <th>action</th>\n",
       "      <th>action_logprob</th>\n",
       "      <th>episode</th>\n",
       "      <th>mask</th>\n",
       "      <th>option</th>\n",
       "      <th>option_logprob</th>\n",
       "      <th>reward</th>\n",
       "      <th>state</th>\n",
       "      <th>term_prob</th>\n",
       "      <th>terminate</th>\n",
       "    </tr>\n",
       "  </thead>\n",
       "  <tbody>\n",
       "    <tr>\n",
       "      <th>0</th>\n",
       "      <td>[3, 1, 3, 1, 0, 1, 2, 2, 0, 1, 2, 3, 0, 2, 2, ...</td>\n",
       "      <td>[-1.4116222858428955, -1.3312069177627563, -1....</td>\n",
       "      <td>0</td>\n",
       "      <td>[1, 1, 1, 1, 1, 1, 1, 1, 1, 1, 1, 1, 1, 1, 1, ...</td>\n",
       "      <td>[3, 3, 1, 1, 1, 1, 1, 1, 1, 1, 3, 3, 3, 3, 3, ...</td>\n",
       "      <td>[-1.40255606174469, -1.3659350872039795, -1.43...</td>\n",
       "      <td>[-1.0, -1.0, -1.0, -1.0, -1.0, -1.0, -1.0, -1....</td>\n",
       "      <td>[[0.0, 0.0, 0.0, 0.0, 0.0, 0.0, 0.0, 0.0, 0.0,...</td>\n",
       "      <td>[0.24318164587020874, 0.24675670266151428, 0.2...</td>\n",
       "      <td>[0, 0, 1, 0, 0, 1, 0, 0, 0, 0, 1, 0, 0, 0, 0, ...</td>\n",
       "    </tr>\n",
       "    <tr>\n",
       "      <th>1</th>\n",
       "      <td>[0, 3, 0, 2, 1, 1, 1, 1, 2, 0, 1, 3, 0, 3, 1, ...</td>\n",
       "      <td>[-1.3993220329284668, -1.413927435874939, -1.4...</td>\n",
       "      <td>1</td>\n",
       "      <td>[1, 1, 1, 1, 1, 1, 1, 1, 1, 1, 1, 1, 1, 1, 1, ...</td>\n",
       "      <td>[0, 0, 0, 0, 0, 0, 0, 0, 0, 0, 0, 0, 1, 1, 3, ...</td>\n",
       "      <td>[-1.2924047708511353, -1.313292384147644, -1.3...</td>\n",
       "      <td>[-1.0, -1.0, -1.0, -1.0, -1.0, -1.0, -1.0, -1....</td>\n",
       "      <td>[[0.0, 0.0, 0.0, 0.0, 0.0, 0.0, 0.0, 0.0, 0.0,...</td>\n",
       "      <td>[0.2922753691673279, 0.28009262681007385, 0.27...</td>\n",
       "      <td>[0, 0, 1, 0, 0, 0, 0, 0, 0, 0, 0, 1, 1, 0, 1, ...</td>\n",
       "    </tr>\n",
       "    <tr>\n",
       "      <th>2</th>\n",
       "      <td>[2, 0, 1, 0, 2, 3, 1, 3, 1, 1, 0, 1, 3, 0, 1, ...</td>\n",
       "      <td>[-1.3537360429763794, -1.4124494791030884, -1....</td>\n",
       "      <td>2</td>\n",
       "      <td>[1, 1, 1, 1, 1, 1, 1, 1, 1, 1, 1, 1, 1, 1, 1, ...</td>\n",
       "      <td>[2, 2, 2, 2, 2, 2, 0, 0, 0, 0, 0, 0, 0, 0, 2, ...</td>\n",
       "      <td>[-1.4502215385437012, -1.4123049974441528, -1....</td>\n",
       "      <td>[-1.0, -1.0, -1.0, -1.0, -1.0, -1.0, -1.0, -1....</td>\n",
       "      <td>[[0.0, 0.0, 0.0, 0.0, 0.0, 0.0, 0.0, 0.0, 0.0,...</td>\n",
       "      <td>[0.2290721982717514, 0.23249110579490662, 0.23...</td>\n",
       "      <td>[0, 0, 0, 0, 0, 0, 1, 0, 1, 0, 0, 0, 0, 0, 1, ...</td>\n",
       "    </tr>\n",
       "    <tr>\n",
       "      <th>3</th>\n",
       "      <td>[3, 1, 0, 0, 2, 1, 0, 0, 1, 2, 2, 1, 3, 1, 2, ...</td>\n",
       "      <td>[-1.3525835275650024, -1.3361449241638184, -1....</td>\n",
       "      <td>3</td>\n",
       "      <td>[1, 1, 1, 1, 1, 1, 1, 1, 1, 1, 1, 1, 1, 1, 1, ...</td>\n",
       "      <td>[3, 3, 3, 3, 3, 3, 3, 3, 3, 3, 3, 3, 3, 3, 3, ...</td>\n",
       "      <td>[-1.40191650390625, -1.4133869409561157, -1.33...</td>\n",
       "      <td>[-1.0, -1.0, -1.0, -1.0, -1.0, -1.0, -1.0, -1....</td>\n",
       "      <td>[[0.0, 0.0, 0.0, 0.0, 0.0, 0.0, 0.0, 0.0, 0.0,...</td>\n",
       "      <td>[0.236525297164917, 0.24746106564998627, 0.257...</td>\n",
       "      <td>[1, 0, 0, 0, 0, 0, 0, 0, 0, 1, 0, 0, 0, 0, 0, ...</td>\n",
       "    </tr>\n",
       "    <tr>\n",
       "      <th>4</th>\n",
       "      <td>[2, 0, 2, 0, 2, 3, 2, 2, 3, 1, 1, 0, 0, 2, 1, ...</td>\n",
       "      <td>[-1.3677855730056763, -1.3902933597564697, -1....</td>\n",
       "      <td>4</td>\n",
       "      <td>[1, 1, 1, 1, 1, 1, 1, 1, 1, 1, 1, 1, 1, 1, 1, ...</td>\n",
       "      <td>[0, 0, 0, 0, 0, 0, 0, 0, 3, 3, 0, 0, 0, 0, 0, ...</td>\n",
       "      <td>[-1.3262231349945068, -1.3031049966812134, -1....</td>\n",
       "      <td>[-1.0, -1.0, -1.0, -1.0, -1.0, -1.0, -1.0, -1....</td>\n",
       "      <td>[[0.0, 0.0, 0.0, 0.0, 0.0, 0.0, 0.0, 0.0, 0.0,...</td>\n",
       "      <td>[0.28021663427352905, 0.2727661728858948, 0.27...</td>\n",
       "      <td>[0, 1, 0, 0, 0, 1, 1, 0, 1, 0, 1, 0, 0, 0, 0, ...</td>\n",
       "    </tr>\n",
       "  </tbody>\n",
       "</table>\n",
       "</div>"
      ],
      "text/plain": [
       "                                              action  \\\n",
       "0  [3, 1, 3, 1, 0, 1, 2, 2, 0, 1, 2, 3, 0, 2, 2, ...   \n",
       "1  [0, 3, 0, 2, 1, 1, 1, 1, 2, 0, 1, 3, 0, 3, 1, ...   \n",
       "2  [2, 0, 1, 0, 2, 3, 1, 3, 1, 1, 0, 1, 3, 0, 1, ...   \n",
       "3  [3, 1, 0, 0, 2, 1, 0, 0, 1, 2, 2, 1, 3, 1, 2, ...   \n",
       "4  [2, 0, 2, 0, 2, 3, 2, 2, 3, 1, 1, 0, 0, 2, 1, ...   \n",
       "\n",
       "                                      action_logprob  episode  \\\n",
       "0  [-1.4116222858428955, -1.3312069177627563, -1....        0   \n",
       "1  [-1.3993220329284668, -1.413927435874939, -1.4...        1   \n",
       "2  [-1.3537360429763794, -1.4124494791030884, -1....        2   \n",
       "3  [-1.3525835275650024, -1.3361449241638184, -1....        3   \n",
       "4  [-1.3677855730056763, -1.3902933597564697, -1....        4   \n",
       "\n",
       "                                                mask  \\\n",
       "0  [1, 1, 1, 1, 1, 1, 1, 1, 1, 1, 1, 1, 1, 1, 1, ...   \n",
       "1  [1, 1, 1, 1, 1, 1, 1, 1, 1, 1, 1, 1, 1, 1, 1, ...   \n",
       "2  [1, 1, 1, 1, 1, 1, 1, 1, 1, 1, 1, 1, 1, 1, 1, ...   \n",
       "3  [1, 1, 1, 1, 1, 1, 1, 1, 1, 1, 1, 1, 1, 1, 1, ...   \n",
       "4  [1, 1, 1, 1, 1, 1, 1, 1, 1, 1, 1, 1, 1, 1, 1, ...   \n",
       "\n",
       "                                              option  \\\n",
       "0  [3, 3, 1, 1, 1, 1, 1, 1, 1, 1, 3, 3, 3, 3, 3, ...   \n",
       "1  [0, 0, 0, 0, 0, 0, 0, 0, 0, 0, 0, 0, 1, 1, 3, ...   \n",
       "2  [2, 2, 2, 2, 2, 2, 0, 0, 0, 0, 0, 0, 0, 0, 2, ...   \n",
       "3  [3, 3, 3, 3, 3, 3, 3, 3, 3, 3, 3, 3, 3, 3, 3, ...   \n",
       "4  [0, 0, 0, 0, 0, 0, 0, 0, 3, 3, 0, 0, 0, 0, 0, ...   \n",
       "\n",
       "                                      option_logprob  \\\n",
       "0  [-1.40255606174469, -1.3659350872039795, -1.43...   \n",
       "1  [-1.2924047708511353, -1.313292384147644, -1.3...   \n",
       "2  [-1.4502215385437012, -1.4123049974441528, -1....   \n",
       "3  [-1.40191650390625, -1.4133869409561157, -1.33...   \n",
       "4  [-1.3262231349945068, -1.3031049966812134, -1....   \n",
       "\n",
       "                                              reward  \\\n",
       "0  [-1.0, -1.0, -1.0, -1.0, -1.0, -1.0, -1.0, -1....   \n",
       "1  [-1.0, -1.0, -1.0, -1.0, -1.0, -1.0, -1.0, -1....   \n",
       "2  [-1.0, -1.0, -1.0, -1.0, -1.0, -1.0, -1.0, -1....   \n",
       "3  [-1.0, -1.0, -1.0, -1.0, -1.0, -1.0, -1.0, -1....   \n",
       "4  [-1.0, -1.0, -1.0, -1.0, -1.0, -1.0, -1.0, -1....   \n",
       "\n",
       "                                               state  \\\n",
       "0  [[0.0, 0.0, 0.0, 0.0, 0.0, 0.0, 0.0, 0.0, 0.0,...   \n",
       "1  [[0.0, 0.0, 0.0, 0.0, 0.0, 0.0, 0.0, 0.0, 0.0,...   \n",
       "2  [[0.0, 0.0, 0.0, 0.0, 0.0, 0.0, 0.0, 0.0, 0.0,...   \n",
       "3  [[0.0, 0.0, 0.0, 0.0, 0.0, 0.0, 0.0, 0.0, 0.0,...   \n",
       "4  [[0.0, 0.0, 0.0, 0.0, 0.0, 0.0, 0.0, 0.0, 0.0,...   \n",
       "\n",
       "                                           term_prob  \\\n",
       "0  [0.24318164587020874, 0.24675670266151428, 0.2...   \n",
       "1  [0.2922753691673279, 0.28009262681007385, 0.27...   \n",
       "2  [0.2290721982717514, 0.23249110579490662, 0.23...   \n",
       "3  [0.236525297164917, 0.24746106564998627, 0.257...   \n",
       "4  [0.28021663427352905, 0.2727661728858948, 0.27...   \n",
       "\n",
       "                                           terminate  \n",
       "0  [0, 0, 1, 0, 0, 1, 0, 0, 0, 0, 1, 0, 0, 0, 0, ...  \n",
       "1  [0, 0, 1, 0, 0, 0, 0, 0, 0, 0, 0, 1, 1, 0, 1, ...  \n",
       "2  [0, 0, 0, 0, 0, 0, 1, 0, 1, 0, 0, 0, 0, 0, 1, ...  \n",
       "3  [1, 0, 0, 0, 0, 0, 0, 0, 0, 1, 0, 0, 0, 0, 0, ...  \n",
       "4  [0, 1, 0, 0, 0, 1, 1, 0, 1, 0, 1, 0, 0, 0, 0, ...  "
      ]
     },
     "execution_count": 10,
     "metadata": {},
     "output_type": "execute_result"
    }
   ],
   "source": [
    "ed.head()"
   ]
  },
  {
   "cell_type": "code",
   "execution_count": 33,
   "metadata": {},
   "outputs": [
    {
     "data": {
      "text/plain": [
       "[<matplotlib.lines.Line2D at 0x7f0075189d68>]"
      ]
     },
     "execution_count": 33,
     "metadata": {},
     "output_type": "execute_result"
    },
    {
     "data": {
      "image/png": "[encoded data removed]",
      "text/plain": [
       "<Figure size 432x288 with 1 Axes>"
      ]
     },
     "metadata": {
      "needs_background": "light"
     },
     "output_type": "display_data"
    }
   ],
   "source": [
    "plt.plot(ed.episode, ed.total_reward)"
   ]
  },
  {
   "cell_type": "code",
   "execution_count": null,
   "metadata": {},
   "outputs": [],
   "source": []
  }
 ],
 "metadata": {
  "kernelspec": {
   "display_name": "Python 3",
   "language": "python",
   "name": "python3"
  },
  "language_info": {
   "codemirror_mode": {
    "name": "ipython",
    "version": 3
   },
   "file_extension": ".py",
   "mimetype": "text/x-python",
   "name": "python",
   "nbconvert_exporter": "python",
   "pygments_lexer": "ipython3",
   "version": "3.6.8"
  }
 },
 "nbformat": 4,
 "nbformat_minor": 2
}
