{
 "cells": [
  {
   "cell_type": "code",
   "execution_count": 3,
   "metadata": {},
   "outputs": [],
   "source": [
    "import torch\n",
    "import torchvision"
   ]
  },
  {
   "cell_type": "code",
   "execution_count": 1,
   "metadata": {},
   "outputs": [],
   "source": [
    "log_dir = '../experiments/debug_ppo_lightbot_crosstensorboard/'"
   ]
  },
  {
   "cell_type": "code",
   "execution_count": 3,
   "metadata": {},
   "outputs": [
    {
     "data": {
      "text/plain": [
       "ERROR: Failed to launch TensorBoard (exited with 1).\n",
       "Contents of stderr:\n",
       "Traceback (most recent call last):\n",
       "  File \"/home/sanborn/software/anaconda3/envs/deeprl/bin/tensorboard\", line 7, in <module>\n",
       "    from tensorboard.main import run_main\n",
       "  File \"/home/sanborn/software/anaconda3/envs/deeprl/lib/python3.6/site-packages/tensorboard/main.py\", line 40, in <module>\n",
       "    from tensorboard import default\n",
       "  File \"/home/sanborn/software/anaconda3/envs/deeprl/lib/python3.6/site-packages/tensorboard/default.py\", line 38, in <module>\n",
       "    from tensorboard.plugins.audio import audio_plugin\n",
       "  File \"/home/sanborn/software/anaconda3/envs/deeprl/lib/python3.6/site-packages/tensorboard/plugins/audio/audio_plugin.py\", line 30, in <module>\n",
       "    from tensorboard.util import tensor_util\n",
       "  File \"/home/sanborn/software/anaconda3/envs/deeprl/lib/python3.6/site-packages/tensorboard/util/tensor_util.py\", line 24, in <module>\n",
       "    from tensorboard.compat.tensorflow_stub import dtypes, compat, tensor_shape\n",
       "  File \"/home/sanborn/software/anaconda3/envs/deeprl/lib/python3.6/site-packages/tensorboard/compat/tensorflow_stub/__init__.py\", line 28, in <module>\n",
       "    from . import app  # noqa\n",
       "  File \"/home/sanborn/software/anaconda3/envs/deeprl/lib/python3.6/site-packages/tensorboard/compat/tensorflow_stub/app.py\", line 24, in <module>\n",
       "    from . import flags\n",
       "  File \"/home/sanborn/software/anaconda3/envs/deeprl/lib/python3.6/site-packages/tensorboard/compat/tensorflow_stub/flags.py\", line 25, in <module>\n",
       "    from absl.flags import *  # pylint: disable=wildcard-import\n",
       "ModuleNotFoundError: No module named 'absl'"
      ]
     },
     "metadata": {},
     "output_type": "display_data"
    },
    {
     "data": {
      "text/plain": [
       "ERROR: Failed to launch TensorBoard (exited with 1).\n",
       "Contents of stderr:\n",
       "Traceback (most recent call last):\n",
       "  File \"/home/sanborn/software/anaconda3/envs/deeprl/bin/tensorboard\", line 7, in <module>\n",
       "    from tensorboard.main import run_main\n",
       "  File \"/home/sanborn/software/anaconda3/envs/deeprl/lib/python3.6/site-packages/tensorboard/main.py\", line 40, in <module>\n",
       "    from tensorboard import default\n",
       "  File \"/home/sanborn/software/anaconda3/envs/deeprl/lib/python3.6/site-packages/tensorboard/default.py\", line 38, in <module>\n",
       "    from tensorboard.plugins.audio import audio_plugin\n",
       "  File \"/home/sanborn/software/anaconda3/envs/deeprl/lib/python3.6/site-packages/tensorboard/plugins/audio/audio_plugin.py\", line 30, in <module>\n",
       "    from tensorboard.util import tensor_util\n",
       "  File \"/home/sanborn/software/anaconda3/envs/deeprl/lib/python3.6/site-packages/tensorboard/util/tensor_util.py\", line 24, in <module>\n",
       "    from tensorboard.compat.tensorflow_stub import dtypes, compat, tensor_shape\n",
       "  File \"/home/sanborn/software/anaconda3/envs/deeprl/lib/python3.6/site-packages/tensorboard/compat/tensorflow_stub/__init__.py\", line 28, in <module>\n",
       "    from . import app  # noqa\n",
       "  File \"/home/sanborn/software/anaconda3/envs/deeprl/lib/python3.6/site-packages/tensorboard/compat/tensorflow_stub/app.py\", line 24, in <module>\n",
       "    from . import flags\n",
       "  File \"/home/sanborn/software/anaconda3/envs/deeprl/lib/python3.6/site-packages/tensorboard/compat/tensorflow_stub/flags.py\", line 25, in <module>\n",
       "    from absl.flags import *  # pylint: disable=wildcard-import\n",
       "ModuleNotFoundError: No module named 'absl'"
      ]
     },
     "metadata": {},
     "output_type": "display_data"
    }
   ],
   "source": [
    "%load_ext tensorboard\n",
    "%tensorboard --logdir {logs_base_dir}\n",
    "%tensorboard --log_dir log_dir"
   ]
  },
  {
   "cell_type": "code",
   "execution_count": null,
   "metadata": {},
   "outputs": [],
   "source": []
  }
 ],
 "metadata": {
  "kernelspec": {
   "display_name": "Python 3",
   "language": "python",
   "name": "python3"
  },
  "language_info": {
   "codemirror_mode": {
    "name": "ipython",
    "version": 3
   },
   "file_extension": ".py",
   "mimetype": "text/x-python",
   "name": "python",
   "nbconvert_exporter": "python",
   "pygments_lexer": "ipython3",
   "version": "3.6.8"
  }
 },
 "nbformat": 4,
 "nbformat_minor": 2
}
