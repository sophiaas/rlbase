{
 "cells": [
  {
   "cell_type": "code",
   "execution_count": 1,
   "metadata": {},
   "outputs": [],
   "source": [
    "import pandas as pd\n",
    "import os\n",
    "import numpy as np\n",
    "import matplotlib\n",
    "import matplotlib.pyplot as plt\n",
    "%matplotlib inline"
   ]
  },
  {
   "cell_type": "code",
   "execution_count": 2,
   "metadata": {},
   "outputs": [],
   "source": [
    "def plot_trajectories(df, column, discrete=True, cmap='magma', n_actions=5, n_intervals=11, n_epochs_per_interval=100, figsize=10,  max_length=300):\n",
    "    breaks = [int(x) for x in np.linspace(0, len(df), n_intervals)]\n",
    "    prev_end = 0\n",
    "    vmin = np.min(np.min(df[column]))\n",
    "    vmax = np.max(np.max(df[column]))\n",
    "    for i, bound in enumerate(breaks[1:]):\n",
    "        data = df[column][prev_end:prev_end+n_epochs_per_interval]\n",
    "        padded = []\n",
    "        for d in data:\n",
    "            to_append = d + [np.nan] * (max_length - len(d))\n",
    "            padded.append(d + [np.nan] * (max_length - len(d)))\n",
    "        if discrete:\n",
    "            cmap = cmap_discretize(cmap, n_actions)\n",
    "        fig = plt.figure(figsize=(figsize,figsize/2))\n",
    "        plot = plt.imshow(padded, cmap=cmap, vmin=vmin, vmax=vmax)\n",
    "        plt.colorbar()  \n",
    "        fig.suptitle('epoch {}:{}'.format(prev_end, prev_end+n_epochs_per_interval), fontsize=20)   \n",
    "        prev_end = bound\n",
    "        \n",
    "def cmap_discretize(cmap, N):\n",
    "    \"\"\"Return a discrete colormap from the continuous colormap cmap.\n",
    "    cmap: colormap instance, eg. cm.jet. \n",
    "         N: number of colors.     \n",
    "     Example\n",
    "     x = resize(arange(100), (5,100))\n",
    "     djet = cmap_discretize(cm.jet, 5)\n",
    "     imshow(x, cmap=djet)\n",
    "     \"\"\"\n",
    "    if type(cmap) == str:\n",
    "        cmap = plt.get_cmap(cmap)\n",
    "    colors_i = np.concatenate((np.linspace(0, 1., N), (0.,0.,0.,0.)))\n",
    "    colors_rgba = cmap(colors_i)\n",
    "    indices = np.linspace(0, 1., N+1)\n",
    "    cdict = {}\n",
    "    for ki,key in enumerate(('red','green','blue')):\n",
    "        cdict[key] = [(indices[i], colors_rgba[i-1,ki], colors_rgba[i,ki]) for i in np.arange(N+1)]\n",
    "        # Return colormap object.\n",
    "    return matplotlib.colors.LinearSegmentedColormap(cmap.name + \"_%d\"%N, cdict, 1024)"
   ]
  },
  {
   "cell_type": "code",
   "execution_count": 3,
   "metadata": {},
   "outputs": [],
   "source": [
    "def load_episode_data(directory):\n",
    "    files = [f for f in os.listdir(directory) if os.path.isfile(directory+f)]\n",
    "    episode_data = pd.DataFrame()\n",
    "    for f in files:\n",
    "        try:\n",
    "            new_data = pd.read_pickle(directory+f)\n",
    "        except:\n",
    "            print(f)\n",
    "        episode_data = episode_data.append(new_data, ignore_index=True)\n",
    "    episode_data = episode_data.sort_values('episode')\n",
    "    episode_data = episode_data.reset_index(drop=True)\n",
    "    episode_data.episode = [int(x) for x in episode_data.episode]\n",
    "#     episode_data = episode_data[['episode', 'action', 'reward', 'state', 'logprob', 'mask']]\n",
    "    return episode_data"
   ]
  },
  {
   "cell_type": "code",
   "execution_count": 4,
   "metadata": {},
   "outputs": [],
   "source": [
    "def unpack_env_data(df):\n",
    "    keys = list(df.env_data)[0][0].keys()\n",
    "    for k in keys:\n",
    "        df[k] = [[x[k] for x in y] for y in df.env_data]\n",
    "    return df"
   ]
  },
  {
   "cell_type": "code",
   "execution_count": 5,
   "metadata": {},
   "outputs": [],
   "source": [
    "summary = pd.read_pickle('../experiments/ppo_ppo_lightbot_cross/summary.p')"
   ]
  },
  {
   "cell_type": "code",
   "execution_count": 9,
   "metadata": {},
   "outputs": [],
   "source": [
    "ed = load_episode_data('../experiments/ppo_ppo_lightbot_cross/episodes/')"
   ]
  },
  {
   "cell_type": "code",
   "execution_count": 10,
   "metadata": {},
   "outputs": [],
   "source": [
    "ed = unpack_env_data(ed)"
   ]
  },
  {
   "cell_type": "code",
   "execution_count": 11,
   "metadata": {},
   "outputs": [
    {
     "data": {
      "text/html": [
       "<div>\n",
       "<style scoped>\n",
       "    .dataframe tbody tr th:only-of-type {\n",
       "        vertical-align: middle;\n",
       "    }\n",
       "\n",
       "    .dataframe tbody tr th {\n",
       "        vertical-align: top;\n",
       "    }\n",
       "\n",
       "    .dataframe thead th {\n",
       "        text-align: right;\n",
       "    }\n",
       "</style>\n",
       "<table border=\"1\" class=\"dataframe\">\n",
       "  <thead>\n",
       "    <tr style=\"text-align: right;\">\n",
       "      <th></th>\n",
       "      <th>action</th>\n",
       "      <th>env_data</th>\n",
       "      <th>episode</th>\n",
       "      <th>logprob</th>\n",
       "      <th>mask</th>\n",
       "      <th>reward</th>\n",
       "      <th>state</th>\n",
       "      <th>coords</th>\n",
       "      <th>direction</th>\n",
       "    </tr>\n",
       "  </thead>\n",
       "  <tbody>\n",
       "    <tr>\n",
       "      <th>0</th>\n",
       "      <td>[[0], [0], [2], [1], [1], [2], [1], [3], [3], ...</td>\n",
       "      <td>[{'coords': [1, 3], 'direction': 1}, {'coords'...</td>\n",
       "      <td>1</td>\n",
       "      <td>[[-1.6094379425048828], [-1.6094379425048828],...</td>\n",
       "      <td>[1, 1, 1, 1, 1, 1, 1, 1, 1, 1, 1, 1, 1, 1, 1, ...</td>\n",
       "      <td>[-1.0, -1.0, -1.0, -1.0, -1.0, -1.0, -1.0, -1....</td>\n",
       "      <td>[[[[2.0, 5.0, 0.0], [2.0, 5.0, 0.0], [2.0, 5.0...</td>\n",
       "      <td>[[1, 3], [1, 3], [1, 3], [1, 4], [1, 4], [1, 4...</td>\n",
       "      <td>[1, 1, 1, 1, 1, 1, 1, 1, 2, 3, 3, 2, 3, 0, 1, ...</td>\n",
       "    </tr>\n",
       "    <tr>\n",
       "      <th>1</th>\n",
       "      <td>[[1], [2], [0], [3], [1], [0], [0], [2], [0], ...</td>\n",
       "      <td>[{'coords': [5, 5], 'direction': 3}, {'coords'...</td>\n",
       "      <td>2</td>\n",
       "      <td>[[-1.6094379425048828], [-1.6094379425048828],...</td>\n",
       "      <td>[1, 1, 1, 1, 1, 1, 1, 1, 1, 1, 1, 1, 1, 1, 1, ...</td>\n",
       "      <td>[-1.0, -1.0, -1.0, -1.0, -1.0, -1.0, -1.0, -1....</td>\n",
       "      <td>[[[[2.0, 5.0, 0.0], [2.0, 5.0, 0.0], [1.0, 0.0...</td>\n",
       "      <td>[[5, 5], [5, 5], [5, 4], [5, 4], [5, 4], [5, 4...</td>\n",
       "      <td>[3, 3, 3, 3, 0, 0, 0, 0, 0, 0, 0, 1, 0, 0, 0, ...</td>\n",
       "    </tr>\n",
       "    <tr>\n",
       "      <th>2</th>\n",
       "      <td>[[4], [4], [2], [3], [1], [2], [3], [0], [1], ...</td>\n",
       "      <td>[{'coords': [3, 5], 'direction': 2}, {'coords'...</td>\n",
       "      <td>3</td>\n",
       "      <td>[[-1.6094379425048828], [-1.6094379425048828],...</td>\n",
       "      <td>[1, 1, 1, 1, 1, 1, 1, 1, 1, 1, 1, 1, 1, 1, 1, ...</td>\n",
       "      <td>[-1.0, -1.0, -1.0, -1.0, -1.0, -1.0, -1.0, -1....</td>\n",
       "      <td>[[[[2.0, 5.0, 0.0], [2.0, 5.0, 0.0], [2.0, 5.0...</td>\n",
       "      <td>[[3, 5], [3, 5], [3, 5], [4, 5], [4, 5], [4, 5...</td>\n",
       "      <td>[2, 1, 0, 0, 1, 1, 1, 2, 2, 2, 2, 3, 3, 2, 3, ...</td>\n",
       "    </tr>\n",
       "    <tr>\n",
       "      <th>3</th>\n",
       "      <td>[[4], [4], [2], [2], [0], [0], [1], [0], [1], ...</td>\n",
       "      <td>[{'coords': [5, 4], 'direction': 2}, {'coords'...</td>\n",
       "      <td>4</td>\n",
       "      <td>[[-1.6094379425048828], [-1.6094379425048828],...</td>\n",
       "      <td>[1, 1, 1, 1, 1, 1, 1, 1, 1, 1, 1, 1, 1, 1, 1, ...</td>\n",
       "      <td>[-1.0, -1.0, -1.0, -1.0, -1.0, -1.0, -1.0, -1....</td>\n",
       "      <td>[[[[2.0, 5.0, 0.0], [2.0, 5.0, 0.0], [2.0, 5.0...</td>\n",
       "      <td>[[5, 4], [5, 4], [5, 4], [5, 4], [5, 4], [5, 4...</td>\n",
       "      <td>[2, 1, 0, 0, 0, 0, 0, 0, 0, 0, 0, 0, 1, 1, 0, ...</td>\n",
       "    </tr>\n",
       "    <tr>\n",
       "      <th>4</th>\n",
       "      <td>[[1], [3], [2], [2], [4], [3], [4], [2], [1], ...</td>\n",
       "      <td>[{'coords': [5, 4], 'direction': 1}, {'coords'...</td>\n",
       "      <td>5</td>\n",
       "      <td>[[-1.6094379425048828], [-1.6094379425048828],...</td>\n",
       "      <td>[1, 1, 1, 1, 1, 1, 1, 1, 1, 1, 1, 1, 1, 1, 1, ...</td>\n",
       "      <td>[-1.0, -1.0, -1.0, -1.0, -1.0, -1.0, -1.0, -1....</td>\n",
       "      <td>[[[[2.0, 5.0, 0.0], [2.0, 5.0, 0.0], [2.0, 5.0...</td>\n",
       "      <td>[[5, 4], [5, 4], [5, 4], [4, 4], [3, 4], [3, 4...</td>\n",
       "      <td>[1, 1, 2, 2, 2, 1, 2, 1, 1, 1, 2, 1, 0, 3, 3, ...</td>\n",
       "    </tr>\n",
       "  </tbody>\n",
       "</table>\n",
       "</div>"
      ],
      "text/plain": [
       "                                              action  \\\n",
       "0  [[0], [0], [2], [1], [1], [2], [1], [3], [3], ...   \n",
       "1  [[1], [2], [0], [3], [1], [0], [0], [2], [0], ...   \n",
       "2  [[4], [4], [2], [3], [1], [2], [3], [0], [1], ...   \n",
       "3  [[4], [4], [2], [2], [0], [0], [1], [0], [1], ...   \n",
       "4  [[1], [3], [2], [2], [4], [3], [4], [2], [1], ...   \n",
       "\n",
       "                                            env_data  episode  \\\n",
       "0  [{'coords': [1, 3], 'direction': 1}, {'coords'...        1   \n",
       "1  [{'coords': [5, 5], 'direction': 3}, {'coords'...        2   \n",
       "2  [{'coords': [3, 5], 'direction': 2}, {'coords'...        3   \n",
       "3  [{'coords': [5, 4], 'direction': 2}, {'coords'...        4   \n",
       "4  [{'coords': [5, 4], 'direction': 1}, {'coords'...        5   \n",
       "\n",
       "                                             logprob  \\\n",
       "0  [[-1.6094379425048828], [-1.6094379425048828],...   \n",
       "1  [[-1.6094379425048828], [-1.6094379425048828],...   \n",
       "2  [[-1.6094379425048828], [-1.6094379425048828],...   \n",
       "3  [[-1.6094379425048828], [-1.6094379425048828],...   \n",
       "4  [[-1.6094379425048828], [-1.6094379425048828],...   \n",
       "\n",
       "                                                mask  \\\n",
       "0  [1, 1, 1, 1, 1, 1, 1, 1, 1, 1, 1, 1, 1, 1, 1, ...   \n",
       "1  [1, 1, 1, 1, 1, 1, 1, 1, 1, 1, 1, 1, 1, 1, 1, ...   \n",
       "2  [1, 1, 1, 1, 1, 1, 1, 1, 1, 1, 1, 1, 1, 1, 1, ...   \n",
       "3  [1, 1, 1, 1, 1, 1, 1, 1, 1, 1, 1, 1, 1, 1, 1, ...   \n",
       "4  [1, 1, 1, 1, 1, 1, 1, 1, 1, 1, 1, 1, 1, 1, 1, ...   \n",
       "\n",
       "                                              reward  \\\n",
       "0  [-1.0, -1.0, -1.0, -1.0, -1.0, -1.0, -1.0, -1....   \n",
       "1  [-1.0, -1.0, -1.0, -1.0, -1.0, -1.0, -1.0, -1....   \n",
       "2  [-1.0, -1.0, -1.0, -1.0, -1.0, -1.0, -1.0, -1....   \n",
       "3  [-1.0, -1.0, -1.0, -1.0, -1.0, -1.0, -1.0, -1....   \n",
       "4  [-1.0, -1.0, -1.0, -1.0, -1.0, -1.0, -1.0, -1....   \n",
       "\n",
       "                                               state  \\\n",
       "0  [[[[2.0, 5.0, 0.0], [2.0, 5.0, 0.0], [2.0, 5.0...   \n",
       "1  [[[[2.0, 5.0, 0.0], [2.0, 5.0, 0.0], [1.0, 0.0...   \n",
       "2  [[[[2.0, 5.0, 0.0], [2.0, 5.0, 0.0], [2.0, 5.0...   \n",
       "3  [[[[2.0, 5.0, 0.0], [2.0, 5.0, 0.0], [2.0, 5.0...   \n",
       "4  [[[[2.0, 5.0, 0.0], [2.0, 5.0, 0.0], [2.0, 5.0...   \n",
       "\n",
       "                                              coords  \\\n",
       "0  [[1, 3], [1, 3], [1, 3], [1, 4], [1, 4], [1, 4...   \n",
       "1  [[5, 5], [5, 5], [5, 4], [5, 4], [5, 4], [5, 4...   \n",
       "2  [[3, 5], [3, 5], [3, 5], [4, 5], [4, 5], [4, 5...   \n",
       "3  [[5, 4], [5, 4], [5, 4], [5, 4], [5, 4], [5, 4...   \n",
       "4  [[5, 4], [5, 4], [5, 4], [4, 4], [3, 4], [3, 4...   \n",
       "\n",
       "                                           direction  \n",
       "0  [1, 1, 1, 1, 1, 1, 1, 1, 2, 3, 3, 2, 3, 0, 1, ...  \n",
       "1  [3, 3, 3, 3, 0, 0, 0, 0, 0, 0, 0, 1, 0, 0, 0, ...  \n",
       "2  [2, 1, 0, 0, 1, 1, 1, 2, 2, 2, 2, 3, 3, 2, 3, ...  \n",
       "3  [2, 1, 0, 0, 0, 0, 0, 0, 0, 0, 0, 0, 1, 1, 0, ...  \n",
       "4  [1, 1, 2, 2, 2, 1, 2, 1, 1, 1, 2, 1, 0, 3, 3, ...  "
      ]
     },
     "execution_count": 11,
     "metadata": {},
     "output_type": "execute_result"
    }
   ],
   "source": [
    "ed.head()"
   ]
  },
  {
   "cell_type": "code",
   "execution_count": 16,
   "metadata": {},
   "outputs": [],
   "source": [
    "l = ed.action[0]"
   ]
  },
  {
   "cell_type": "code",
   "execution_count": null,
   "metadata": {},
   "outputs": [],
   "source": [
    "[]"
   ]
  },
  {
   "cell_type": "code",
   "execution_count": 26,
   "metadata": {},
   "outputs": [
    {
     "name": "stderr",
     "output_type": "stream",
     "text": [
      "/home/sanborn/software/anaconda3/envs/deeprl/lib/python3.6/site-packages/ipykernel_launcher.py:2: SettingWithCopyWarning: \n",
      "A value is trying to be set on a copy of a slice from a DataFrame\n",
      "\n",
      "See the caveats in the documentation: http://pandas.pydata.org/pandas-docs/stable/indexing.html#indexing-view-versus-copy\n",
      "  \n"
     ]
    }
   ],
   "source": [
    "for i, x in enumerate(ed.action):\n",
    "    ed.action[i] = [y[0] for y in x]"
   ]
  },
  {
   "cell_type": "code",
   "execution_count": 37,
   "metadata": {},
   "outputs": [],
   "source": [
    "idxs = [i for i,c in enumerate(ed.action) if len(c) < 100]"
   ]
  },
  {
   "cell_type": "code",
   "execution_count": 42,
   "metadata": {},
   "outputs": [
    {
     "data": {
      "text/plain": [
       "43.0"
      ]
     },
     "execution_count": 42,
     "metadata": {},
     "output_type": "execute_result"
    }
   ],
   "source": [
    "np.sum(ed.reward[1360])"
   ]
  },
  {
   "cell_type": "code",
   "execution_count": 94,
   "metadata": {},
   "outputs": [],
   "source": [
    "import pickle\n",
    "with open('../experiments/ppo3_rlgamma_99_ppo_lightbot_cross/config.p', 'rb') as f:\n",
    "    config = pickle.load(f)"
   ]
  },
  {
   "cell_type": "code",
   "execution_count": 97,
   "metadata": {},
   "outputs": [
    {
     "data": {
      "text/plain": [
       "0.9"
      ]
     },
     "execution_count": 97,
     "metadata": {},
     "output_type": "execute_result"
    }
   ],
   "source": [
    "config.training.lr_gamma"
   ]
  },
  {
   "cell_type": "code",
   "execution_count": 31,
   "metadata": {},
   "outputs": [
    {
     "data": {
      "text/plain": [
       "action       [1, 2, 4, 2, 4, 2, 0, 2, 3, 3, 1, 0, 4, 4, 2, ...\n",
       "env_data     [{'coords': [4, 5], 'direction': 3}, {'coords'...\n",
       "episode                                                    300\n",
       "logprob      [[-1.6094379425048828], [-1.6094379425048828],...\n",
       "mask         [1, 1, 1, 1, 1, 1, 1, 1, 1, 1, 1, 1, 1, 1, 1, ...\n",
       "reward       [-1.0, -1.0, -1.0, -1.0, -1.0, -1.0, -1.0, -1....\n",
       "state        [[[[2.0, 5.0, 0.0], [2.0, 5.0, 0.0], [1.0, 0.0...\n",
       "coords       [[4, 5], [4, 5], [4, 4], [4, 4], [3, 4], [3, 4...\n",
       "direction    [3, 3, 3, 2, 2, 1, 1, 1, 1, 2, 3, 3, 3, 2, 1, ...\n",
       "Name: 200, dtype: object"
      ]
     },
     "execution_count": 31,
     "metadata": {},
     "output_type": "execute_result"
    }
   ],
   "source": [
    "ed.loc[200]"
   ]
  },
  {
   "cell_type": "code",
   "execution_count": 34,
   "metadata": {},
   "outputs": [
    {
     "data": {
      "text/plain": [
       "action       [0, 0, 2, 1, 1, 2, 1, 3, 3, 0, 4, 3, 3, 3, 1, ...\n",
       "env_data     [{'coords': [1, 3], 'direction': 1}, {'coords'...\n",
       "episode                                                      1\n",
       "logprob      [[-1.6094379425048828], [-1.6094379425048828],...\n",
       "mask         [1, 1, 1, 1, 1, 1, 1, 1, 1, 1, 1, 1, 1, 1, 1, ...\n",
       "reward       [-1.0, -1.0, -1.0, -1.0, -1.0, -1.0, -1.0, -1....\n",
       "state        [[[[2.0, 5.0, 0.0], [2.0, 5.0, 0.0], [2.0, 5.0...\n",
       "coords       [[1, 3], [1, 3], [1, 3], [1, 4], [1, 4], [1, 4...\n",
       "direction    [1, 1, 1, 1, 1, 1, 1, 1, 2, 3, 3, 2, 3, 0, 1, ...\n",
       "Name: 0, dtype: object"
      ]
     },
     "execution_count": 34,
     "metadata": {},
     "output_type": "execute_result"
    }
   ],
   "source": [
    "ed.loc[0]"
   ]
  },
  {
   "cell_type": "code",
   "execution_count": 53,
   "metadata": {},
   "outputs": [
    {
     "data": {
      "text/plain": [
       "[(7, 7, 3),\n",
       " (7, 7, 3),\n",
       " (7, 7, 3),\n",
       " (7, 7, 3),\n",
       " (7, 7, 3),\n",
       " (7, 7, 3),\n",
       " (7, 7, 3),\n",
       " (7, 7, 3),\n",
       " (7, 7, 3),\n",
       " (7, 7, 3),\n",
       " (7, 7, 3),\n",
       " (7, 7, 3),\n",
       " (7, 7, 3),\n",
       " (7, 7, 3),\n",
       " (7, 7, 3),\n",
       " (7, 7, 3),\n",
       " (7, 7, 3),\n",
       " (7, 7, 3),\n",
       " (7, 7, 3),\n",
       " (7, 7, 3),\n",
       " (7, 7, 3),\n",
       " (7, 7, 3),\n",
       " (7, 7, 3),\n",
       " (7, 7, 3),\n",
       " (7, 7, 3),\n",
       " (7, 7, 3),\n",
       " (7, 7, 3),\n",
       " (7, 7, 3),\n",
       " (7, 7, 3),\n",
       " (7, 7, 3),\n",
       " (7, 7, 3),\n",
       " (7, 7, 3),\n",
       " (7, 7, 3),\n",
       " (7, 7, 3),\n",
       " (7, 7, 3),\n",
       " (7, 7, 3),\n",
       " (7, 7, 3),\n",
       " (7, 7, 3),\n",
       " (7, 7, 3),\n",
       " (7, 7, 3),\n",
       " (7, 7, 3),\n",
       " (7, 7, 3),\n",
       " (7, 7, 3),\n",
       " (7, 7, 3),\n",
       " (7, 7, 3),\n",
       " (7, 7, 3),\n",
       " (7, 7, 3),\n",
       " (7, 7, 3),\n",
       " (7, 7, 3),\n",
       " (7, 7, 3)]"
      ]
     },
     "execution_count": 53,
     "metadata": {},
     "output_type": "execute_result"
    }
   ],
   "source": [
    "[np.array(x).shape for x in ed.state[0]]"
   ]
  },
  {
   "cell_type": "code",
   "execution_count": null,
   "metadata": {},
   "outputs": [],
   "source": [
    "np.transpose(np.array(ed.state[0][0], )"
   ]
  },
  {
   "cell_type": "code",
   "execution_count": 68,
   "metadata": {},
   "outputs": [],
   "source": [
    "img = np.array(ed.state[0][0])"
   ]
  },
  {
   "cell_type": "code",
   "execution_count": 63,
   "metadata": {},
   "outputs": [
    {
     "data": {
      "text/plain": [
       "(7, 7, 3)"
      ]
     },
     "execution_count": 63,
     "metadata": {},
     "output_type": "execute_result"
    }
   ],
   "source": [
    "img.shape"
   ]
  },
  {
   "cell_type": "code",
   "execution_count": 85,
   "metadata": {},
   "outputs": [],
   "source": [
    "img = np.sum(np.array(ed.state[0][0]),axis=2)"
   ]
  },
  {
   "cell_type": "code",
   "execution_count": 88,
   "metadata": {},
   "outputs": [
    {
     "data": {
      "text/plain": [
       "<matplotlib.image.AxesImage at 0x7f65b0126eb8>"
      ]
     },
     "execution_count": 88,
     "metadata": {},
     "output_type": "execute_result"
    },
    {
     "data": {
      "image/png": "[encoded data removed]",
      "text/plain": [
       "<Figure size 432x288 with 1 Axes>"
      ]
     },
     "metadata": {
      "needs_background": "light"
     },
     "output_type": "display_data"
    }
   ],
   "source": [
    "plt.imshow(img, cmap='rainbow_r')"
   ]
  },
  {
   "cell_type": "code",
   "execution_count": 74,
   "metadata": {},
   "outputs": [
    {
     "name": "stderr",
     "output_type": "stream",
     "text": [
      "Clipping input data to the valid range for imshow with RGB data ([0..1] for floats or [0..255] for integers).\n"
     ]
    },
    {
     "data": {
      "text/plain": [
       "<matplotlib.image.AxesImage at 0x7f65b9783080>"
      ]
     },
     "execution_count": 74,
     "metadata": {},
     "output_type": "execute_result"
    },
    {
     "data": {
      "image/png": "[encoded data removed]",
      "text/plain": [
       "<Figure size 432x288 with 1 Axes>"
      ]
     },
     "metadata": {
      "needs_background": "light"
     },
     "output_type": "display_data"
    }
   ],
   "source": [
    "plt.imshow(np.array(ed.state[0][2]))"
   ]
  },
  {
   "cell_type": "code",
   "execution_count": 75,
   "metadata": {},
   "outputs": [
    {
     "name": "stderr",
     "output_type": "stream",
     "text": [
      "Clipping input data to the valid range for imshow with RGB data ([0..1] for floats or [0..255] for integers).\n"
     ]
    },
    {
     "data": {
      "text/plain": [
       "<matplotlib.image.AxesImage at 0x7f65b9df1908>"
      ]
     },
     "execution_count": 75,
     "metadata": {},
     "output_type": "execute_result"
    },
    {
     "data": {
      "image/png": "[encoded data removed]",
      "text/plain": [
       "<Figure size 432x288 with 1 Axes>"
      ]
     },
     "metadata": {
      "needs_background": "light"
     },
     "output_type": "display_data"
    }
   ],
   "source": [
    "plt.imshow(np.array(ed.state[0][3]))"
   ]
  },
  {
   "cell_type": "code",
   "execution_count": 76,
   "metadata": {},
   "outputs": [
    {
     "name": "stderr",
     "output_type": "stream",
     "text": [
      "Clipping input data to the valid range for imshow with RGB data ([0..1] for floats or [0..255] for integers).\n"
     ]
    },
    {
     "data": {
      "text/plain": [
       "<matplotlib.image.AxesImage at 0x7f65b023c1d0>"
      ]
     },
     "execution_count": 76,
     "metadata": {},
     "output_type": "execute_result"
    },
    {
     "data": {
      "image/png": "[encoded data removed]",
      "text/plain": [
       "<Figure size 432x288 with 1 Axes>"
      ]
     },
     "metadata": {
      "needs_background": "light"
     },
     "output_type": "display_data"
    }
   ],
   "source": [
    "plt.imshow(np.array(ed.state[0][4]))"
   ]
  },
  {
   "cell_type": "code",
   "execution_count": 77,
   "metadata": {},
   "outputs": [
    {
     "name": "stderr",
     "output_type": "stream",
     "text": [
      "Clipping input data to the valid range for imshow with RGB data ([0..1] for floats or [0..255] for integers).\n"
     ]
    },
    {
     "data": {
      "text/plain": [
       "<matplotlib.image.AxesImage at 0x7f65aa2d9a58>"
      ]
     },
     "execution_count": 77,
     "metadata": {},
     "output_type": "execute_result"
    },
    {
     "data": {
      "image/png": "[encoded data removed]",
      "text/plain": [
       "<Figure size 432x288 with 1 Axes>"
      ]
     },
     "metadata": {
      "needs_background": "light"
     },
     "output_type": "display_data"
    }
   ],
   "source": [
    "plt.imshow(np.array(ed.state[0][4]))"
   ]
  },
  {
   "cell_type": "code",
   "execution_count": 78,
   "metadata": {},
   "outputs": [
    {
     "name": "stderr",
     "output_type": "stream",
     "text": [
      "Clipping input data to the valid range for imshow with RGB data ([0..1] for floats or [0..255] for integers).\n"
     ]
    },
    {
     "data": {
      "text/plain": [
       "<matplotlib.image.AxesImage at 0x7f65b9e16320>"
      ]
     },
     "execution_count": 78,
     "metadata": {},
     "output_type": "execute_result"
    },
    {
     "data": {
      "image/png": "[encoded data removed]",
      "text/plain": [
       "<Figure size 432x288 with 1 Axes>"
      ]
     },
     "metadata": {
      "needs_background": "light"
     },
     "output_type": "display_data"
    }
   ],
   "source": [
    "plt.imshow(np.array(ed.state[0][5]))"
   ]
  },
  {
   "cell_type": "code",
   "execution_count": 33,
   "metadata": {},
   "outputs": [
    {
     "data": {
      "image/png": "[encoded data removed]",
      "text/plain": [
       "<Figure size 720x360 with 2 Axes>"
      ]
     },
     "metadata": {
      "needs_background": "light"
     },
     "output_type": "display_data"
    },
    {
     "data": {
      "image/png": "[encoded data removed]",
      "text/plain": [
       "<Figure size 720x360 with 2 Axes>"
      ]
     },
     "metadata": {
      "needs_background": "light"
     },
     "output_type": "display_data"
    },
    {
     "data": {
      "image/png": "[encoded data removed]",
      "text/plain": [
       "<Figure size 720x360 with 2 Axes>"
      ]
     },
     "metadata": {
      "needs_background": "light"
     },
     "output_type": "display_data"
    },
    {
     "data": {
      "image/png": "[encoded data removed]",
      "text/plain": [
       "<Figure size 720x360 with 2 Axes>"
      ]
     },
     "metadata": {
      "needs_background": "light"
     },
     "output_type": "display_data"
    },
    {
     "data": {
      "image/png": "[encoded data removed]",
      "text/plain": [
       "<Figure size 720x360 with 2 Axes>"
      ]
     },
     "metadata": {
      "needs_background": "light"
     },
     "output_type": "display_data"
    },
    {
     "data": {
      "image/png": "[encoded data removed]",
      "text/plain": [
       "<Figure size 720x360 with 2 Axes>"
      ]
     },
     "metadata": {
      "needs_background": "light"
     },
     "output_type": "display_data"
    },
    {
     "data": {
      "image/png": "[encoded data removed]",
      "text/plain": [
       "<Figure size 720x360 with 2 Axes>"
      ]
     },
     "metadata": {
      "needs_background": "light"
     },
     "output_type": "display_data"
    },
    {
     "data": {
      "image/png": "[encoded data removed]",
      "text/plain": [
       "<Figure size 720x360 with 2 Axes>"
      ]
     },
     "metadata": {
      "needs_background": "light"
     },
     "output_type": "display_data"
    },
    {
     "data": {
      "image/png": "[encoded data removed]",
      "text/plain": [
       "<Figure size 720x360 with 2 Axes>"
      ]
     },
     "metadata": {
      "needs_background": "light"
     },
     "output_type": "display_data"
    },
    {
     "data": {
      "image/png": "[encoded data removed]",
      "text/plain": [
       "<Figure size 720x360 with 2 Axes>"
      ]
     },
     "metadata": {
      "needs_background": "light"
     },
     "output_type": "display_data"
    }
   ],
   "source": [
    "plot_trajectories(ed, 'reward', n_actions=5, discrete=False, cmap='viridis_r', max_length=100)"
   ]
  },
  {
   "cell_type": "code",
   "execution_count": 24,
   "metadata": {},
   "outputs": [],
   "source": [
    "summary = pd.read_pickle('../experiments/ppoc_fourrooms_minibatch/summary.p')"
   ]
  },
  {
   "cell_type": "code",
   "execution_count": 25,
   "metadata": {},
   "outputs": [
    {
     "data": {
      "text/html": [
       "<div>\n",
       "<style scoped>\n",
       "    .dataframe tbody tr th:only-of-type {\n",
       "        vertical-align: middle;\n",
       "    }\n",
       "\n",
       "    .dataframe tbody tr th {\n",
       "        vertical-align: top;\n",
       "    }\n",
       "\n",
       "    .dataframe thead th {\n",
       "        text-align: right;\n",
       "    }\n",
       "</style>\n",
       "<table border=\"1\" class=\"dataframe\">\n",
       "  <thead>\n",
       "    <tr style=\"text-align: right;\">\n",
       "      <th></th>\n",
       "      <th>episode</th>\n",
       "      <th>running_moves</th>\n",
       "      <th>running_rewards</th>\n",
       "    </tr>\n",
       "  </thead>\n",
       "  <tbody>\n",
       "    <tr>\n",
       "      <th>0</th>\n",
       "      <td>1.0</td>\n",
       "      <td>55.000000</td>\n",
       "      <td>46.000000</td>\n",
       "    </tr>\n",
       "    <tr>\n",
       "      <th>1</th>\n",
       "      <td>2.0</td>\n",
       "      <td>55.360000</td>\n",
       "      <td>45.640000</td>\n",
       "    </tr>\n",
       "    <tr>\n",
       "      <th>2</th>\n",
       "      <td>3.0</td>\n",
       "      <td>56.216400</td>\n",
       "      <td>44.783600</td>\n",
       "    </tr>\n",
       "    <tr>\n",
       "      <th>3</th>\n",
       "      <td>4.0</td>\n",
       "      <td>58.654236</td>\n",
       "      <td>41.335764</td>\n",
       "    </tr>\n",
       "    <tr>\n",
       "      <th>4</th>\n",
       "      <td>5.0</td>\n",
       "      <td>61.067694</td>\n",
       "      <td>37.922406</td>\n",
       "    </tr>\n",
       "    <tr>\n",
       "      <th>5</th>\n",
       "      <td>6.0</td>\n",
       "      <td>63.457017</td>\n",
       "      <td>34.543182</td>\n",
       "    </tr>\n",
       "    <tr>\n",
       "      <th>6</th>\n",
       "      <td>7.0</td>\n",
       "      <td>63.072447</td>\n",
       "      <td>34.957750</td>\n",
       "    </tr>\n",
       "    <tr>\n",
       "      <th>7</th>\n",
       "      <td>8.0</td>\n",
       "      <td>65.001722</td>\n",
       "      <td>33.058173</td>\n",
       "    </tr>\n",
       "    <tr>\n",
       "      <th>8</th>\n",
       "      <td>9.0</td>\n",
       "      <td>67.351705</td>\n",
       "      <td>29.727591</td>\n",
       "    </tr>\n",
       "    <tr>\n",
       "      <th>9</th>\n",
       "      <td>10.0</td>\n",
       "      <td>68.798188</td>\n",
       "      <td>28.320315</td>\n",
       "    </tr>\n",
       "    <tr>\n",
       "      <th>10</th>\n",
       "      <td>11.0</td>\n",
       "      <td>68.960206</td>\n",
       "      <td>28.197112</td>\n",
       "    </tr>\n",
       "    <tr>\n",
       "      <th>11</th>\n",
       "      <td>12.0</td>\n",
       "      <td>71.270604</td>\n",
       "      <td>24.915141</td>\n",
       "    </tr>\n",
       "    <tr>\n",
       "      <th>12</th>\n",
       "      <td>13.0</td>\n",
       "      <td>73.557898</td>\n",
       "      <td>21.665990</td>\n",
       "    </tr>\n",
       "    <tr>\n",
       "      <th>13</th>\n",
       "      <td>14.0</td>\n",
       "      <td>75.822319</td>\n",
       "      <td>18.449330</td>\n",
       "    </tr>\n",
       "    <tr>\n",
       "      <th>14</th>\n",
       "      <td>15.0</td>\n",
       "      <td>76.424096</td>\n",
       "      <td>17.914836</td>\n",
       "    </tr>\n",
       "    <tr>\n",
       "      <th>15</th>\n",
       "      <td>16.0</td>\n",
       "      <td>76.689855</td>\n",
       "      <td>17.715688</td>\n",
       "    </tr>\n",
       "    <tr>\n",
       "      <th>16</th>\n",
       "      <td>17.0</td>\n",
       "      <td>78.922956</td>\n",
       "      <td>14.538531</td>\n",
       "    </tr>\n",
       "    <tr>\n",
       "      <th>17</th>\n",
       "      <td>18.0</td>\n",
       "      <td>79.483727</td>\n",
       "      <td>14.053146</td>\n",
       "    </tr>\n",
       "    <tr>\n",
       "      <th>18</th>\n",
       "      <td>19.0</td>\n",
       "      <td>81.688889</td>\n",
       "      <td>10.912614</td>\n",
       "    </tr>\n",
       "    <tr>\n",
       "      <th>19</th>\n",
       "      <td>20.0</td>\n",
       "      <td>83.872000</td>\n",
       "      <td>7.803488</td>\n",
       "    </tr>\n",
       "    <tr>\n",
       "      <th>20</th>\n",
       "      <td>21.0</td>\n",
       "      <td>86.033280</td>\n",
       "      <td>4.725453</td>\n",
       "    </tr>\n",
       "    <tr>\n",
       "      <th>21</th>\n",
       "      <td>22.0</td>\n",
       "      <td>88.172948</td>\n",
       "      <td>1.678199</td>\n",
       "    </tr>\n",
       "    <tr>\n",
       "      <th>22</th>\n",
       "      <td>23.0</td>\n",
       "      <td>90.291218</td>\n",
       "      <td>-1.338583</td>\n",
       "    </tr>\n",
       "    <tr>\n",
       "      <th>23</th>\n",
       "      <td>24.0</td>\n",
       "      <td>92.388306</td>\n",
       "      <td>-4.325197</td>\n",
       "    </tr>\n",
       "    <tr>\n",
       "      <th>24</th>\n",
       "      <td>25.0</td>\n",
       "      <td>94.464423</td>\n",
       "      <td>-7.281945</td>\n",
       "    </tr>\n",
       "    <tr>\n",
       "      <th>25</th>\n",
       "      <td>26.0</td>\n",
       "      <td>96.519779</td>\n",
       "      <td>-10.209126</td>\n",
       "    </tr>\n",
       "    <tr>\n",
       "      <th>26</th>\n",
       "      <td>27.0</td>\n",
       "      <td>97.384581</td>\n",
       "      <td>-10.927035</td>\n",
       "    </tr>\n",
       "    <tr>\n",
       "      <th>27</th>\n",
       "      <td>28.0</td>\n",
       "      <td>96.610735</td>\n",
       "      <td>-10.007764</td>\n",
       "    </tr>\n",
       "    <tr>\n",
       "      <th>28</th>\n",
       "      <td>29.0</td>\n",
       "      <td>98.494628</td>\n",
       "      <td>-11.747687</td>\n",
       "    </tr>\n",
       "    <tr>\n",
       "      <th>29</th>\n",
       "      <td>30.0</td>\n",
       "      <td>100.509681</td>\n",
       "      <td>-14.630210</td>\n",
       "    </tr>\n",
       "    <tr>\n",
       "      <th>...</th>\n",
       "      <td>...</td>\n",
       "      <td>...</td>\n",
       "      <td>...</td>\n",
       "    </tr>\n",
       "    <tr>\n",
       "      <th>1170</th>\n",
       "      <td>1171.0</td>\n",
       "      <td>56.403262</td>\n",
       "      <td>44.285755</td>\n",
       "    </tr>\n",
       "    <tr>\n",
       "      <th>1171</th>\n",
       "      <td>1172.0</td>\n",
       "      <td>56.179230</td>\n",
       "      <td>44.512897</td>\n",
       "    </tr>\n",
       "    <tr>\n",
       "      <th>1172</th>\n",
       "      <td>1173.0</td>\n",
       "      <td>55.667437</td>\n",
       "      <td>45.027768</td>\n",
       "    </tr>\n",
       "    <tr>\n",
       "      <th>1173</th>\n",
       "      <td>1174.0</td>\n",
       "      <td>56.240763</td>\n",
       "      <td>44.457490</td>\n",
       "    </tr>\n",
       "    <tr>\n",
       "      <th>1174</th>\n",
       "      <td>1175.0</td>\n",
       "      <td>55.928355</td>\n",
       "      <td>44.772916</td>\n",
       "    </tr>\n",
       "    <tr>\n",
       "      <th>1175</th>\n",
       "      <td>1176.0</td>\n",
       "      <td>58.369072</td>\n",
       "      <td>41.325186</td>\n",
       "    </tr>\n",
       "    <tr>\n",
       "      <th>1176</th>\n",
       "      <td>1177.0</td>\n",
       "      <td>58.375381</td>\n",
       "      <td>41.331935</td>\n",
       "    </tr>\n",
       "    <tr>\n",
       "      <th>1177</th>\n",
       "      <td>1178.0</td>\n",
       "      <td>58.741627</td>\n",
       "      <td>40.978615</td>\n",
       "    </tr>\n",
       "    <tr>\n",
       "      <th>1178</th>\n",
       "      <td>1179.0</td>\n",
       "      <td>58.204211</td>\n",
       "      <td>41.528829</td>\n",
       "    </tr>\n",
       "    <tr>\n",
       "      <th>1179</th>\n",
       "      <td>1180.0</td>\n",
       "      <td>58.602169</td>\n",
       "      <td>41.143541</td>\n",
       "    </tr>\n",
       "    <tr>\n",
       "      <th>1180</th>\n",
       "      <td>1181.0</td>\n",
       "      <td>58.056147</td>\n",
       "      <td>41.702105</td>\n",
       "    </tr>\n",
       "    <tr>\n",
       "      <th>1181</th>\n",
       "      <td>1182.0</td>\n",
       "      <td>59.855586</td>\n",
       "      <td>39.915084</td>\n",
       "    </tr>\n",
       "    <tr>\n",
       "      <th>1182</th>\n",
       "      <td>1183.0</td>\n",
       "      <td>59.477030</td>\n",
       "      <td>40.305933</td>\n",
       "    </tr>\n",
       "    <tr>\n",
       "      <th>1183</th>\n",
       "      <td>1184.0</td>\n",
       "      <td>59.312260</td>\n",
       "      <td>40.482874</td>\n",
       "    </tr>\n",
       "    <tr>\n",
       "      <th>1184</th>\n",
       "      <td>1185.0</td>\n",
       "      <td>59.189137</td>\n",
       "      <td>40.618045</td>\n",
       "    </tr>\n",
       "    <tr>\n",
       "      <th>1185</th>\n",
       "      <td>1186.0</td>\n",
       "      <td>58.797246</td>\n",
       "      <td>41.021865</td>\n",
       "    </tr>\n",
       "    <tr>\n",
       "      <th>1186</th>\n",
       "      <td>1187.0</td>\n",
       "      <td>58.329273</td>\n",
       "      <td>41.501646</td>\n",
       "    </tr>\n",
       "    <tr>\n",
       "      <th>1187</th>\n",
       "      <td>1188.0</td>\n",
       "      <td>57.895980</td>\n",
       "      <td>41.946630</td>\n",
       "    </tr>\n",
       "    <tr>\n",
       "      <th>1188</th>\n",
       "      <td>1189.0</td>\n",
       "      <td>57.647021</td>\n",
       "      <td>42.207164</td>\n",
       "    </tr>\n",
       "    <tr>\n",
       "      <th>1189</th>\n",
       "      <td>1190.0</td>\n",
       "      <td>58.840550</td>\n",
       "      <td>41.025092</td>\n",
       "    </tr>\n",
       "    <tr>\n",
       "      <th>1190</th>\n",
       "      <td>1191.0</td>\n",
       "      <td>58.422145</td>\n",
       "      <td>41.454841</td>\n",
       "    </tr>\n",
       "    <tr>\n",
       "      <th>1191</th>\n",
       "      <td>1192.0</td>\n",
       "      <td>58.127923</td>\n",
       "      <td>41.760293</td>\n",
       "    </tr>\n",
       "    <tr>\n",
       "      <th>1192</th>\n",
       "      <td>1193.0</td>\n",
       "      <td>57.646644</td>\n",
       "      <td>42.252690</td>\n",
       "    </tr>\n",
       "    <tr>\n",
       "      <th>1193</th>\n",
       "      <td>1194.0</td>\n",
       "      <td>57.480178</td>\n",
       "      <td>42.430163</td>\n",
       "    </tr>\n",
       "    <tr>\n",
       "      <th>1194</th>\n",
       "      <td>1195.0</td>\n",
       "      <td>57.755376</td>\n",
       "      <td>42.165861</td>\n",
       "    </tr>\n",
       "    <tr>\n",
       "      <th>1195</th>\n",
       "      <td>1196.0</td>\n",
       "      <td>57.937822</td>\n",
       "      <td>41.994203</td>\n",
       "    </tr>\n",
       "    <tr>\n",
       "      <th>1196</th>\n",
       "      <td>1197.0</td>\n",
       "      <td>59.298444</td>\n",
       "      <td>40.644260</td>\n",
       "    </tr>\n",
       "    <tr>\n",
       "      <th>1197</th>\n",
       "      <td>1198.0</td>\n",
       "      <td>59.335460</td>\n",
       "      <td>40.617818</td>\n",
       "    </tr>\n",
       "    <tr>\n",
       "      <th>1198</th>\n",
       "      <td>1199.0</td>\n",
       "      <td>60.202105</td>\n",
       "      <td>39.761640</td>\n",
       "    </tr>\n",
       "    <tr>\n",
       "      <th>1199</th>\n",
       "      <td>1200.0</td>\n",
       "      <td>59.640084</td>\n",
       "      <td>40.334023</td>\n",
       "    </tr>\n",
       "  </tbody>\n",
       "</table>\n",
       "<p>1200 rows × 3 columns</p>\n",
       "</div>"
      ],
      "text/plain": [
       "      episode  running_moves  running_rewards\n",
       "0         1.0      55.000000        46.000000\n",
       "1         2.0      55.360000        45.640000\n",
       "2         3.0      56.216400        44.783600\n",
       "3         4.0      58.654236        41.335764\n",
       "4         5.0      61.067694        37.922406\n",
       "5         6.0      63.457017        34.543182\n",
       "6         7.0      63.072447        34.957750\n",
       "7         8.0      65.001722        33.058173\n",
       "8         9.0      67.351705        29.727591\n",
       "9        10.0      68.798188        28.320315\n",
       "10       11.0      68.960206        28.197112\n",
       "11       12.0      71.270604        24.915141\n",
       "12       13.0      73.557898        21.665990\n",
       "13       14.0      75.822319        18.449330\n",
       "14       15.0      76.424096        17.914836\n",
       "15       16.0      76.689855        17.715688\n",
       "16       17.0      78.922956        14.538531\n",
       "17       18.0      79.483727        14.053146\n",
       "18       19.0      81.688889        10.912614\n",
       "19       20.0      83.872000         7.803488\n",
       "20       21.0      86.033280         4.725453\n",
       "21       22.0      88.172948         1.678199\n",
       "22       23.0      90.291218        -1.338583\n",
       "23       24.0      92.388306        -4.325197\n",
       "24       25.0      94.464423        -7.281945\n",
       "25       26.0      96.519779       -10.209126\n",
       "26       27.0      97.384581       -10.927035\n",
       "27       28.0      96.610735       -10.007764\n",
       "28       29.0      98.494628       -11.747687\n",
       "29       30.0     100.509681       -14.630210\n",
       "...       ...            ...              ...\n",
       "1170   1171.0      56.403262        44.285755\n",
       "1171   1172.0      56.179230        44.512897\n",
       "1172   1173.0      55.667437        45.027768\n",
       "1173   1174.0      56.240763        44.457490\n",
       "1174   1175.0      55.928355        44.772916\n",
       "1175   1176.0      58.369072        41.325186\n",
       "1176   1177.0      58.375381        41.331935\n",
       "1177   1178.0      58.741627        40.978615\n",
       "1178   1179.0      58.204211        41.528829\n",
       "1179   1180.0      58.602169        41.143541\n",
       "1180   1181.0      58.056147        41.702105\n",
       "1181   1182.0      59.855586        39.915084\n",
       "1182   1183.0      59.477030        40.305933\n",
       "1183   1184.0      59.312260        40.482874\n",
       "1184   1185.0      59.189137        40.618045\n",
       "1185   1186.0      58.797246        41.021865\n",
       "1186   1187.0      58.329273        41.501646\n",
       "1187   1188.0      57.895980        41.946630\n",
       "1188   1189.0      57.647021        42.207164\n",
       "1189   1190.0      58.840550        41.025092\n",
       "1190   1191.0      58.422145        41.454841\n",
       "1191   1192.0      58.127923        41.760293\n",
       "1192   1193.0      57.646644        42.252690\n",
       "1193   1194.0      57.480178        42.430163\n",
       "1194   1195.0      57.755376        42.165861\n",
       "1195   1196.0      57.937822        41.994203\n",
       "1196   1197.0      59.298444        40.644260\n",
       "1197   1198.0      59.335460        40.617818\n",
       "1198   1199.0      60.202105        39.761640\n",
       "1199   1200.0      59.640084        40.334023\n",
       "\n",
       "[1200 rows x 3 columns]"
      ]
     },
     "execution_count": 25,
     "metadata": {},
     "output_type": "execute_result"
    }
   ],
   "source": [
    "summary"
   ]
  },
  {
   "cell_type": "code",
   "execution_count": null,
   "metadata": {},
   "outputs": [],
   "source": []
  }
 ],
 "metadata": {
  "kernelspec": {
   "display_name": "Python 3",
   "language": "python",
   "name": "python3"
  },
  "language_info": {
   "codemirror_mode": {
    "name": "ipython",
    "version": 3
   },
   "file_extension": ".py",
   "mimetype": "text/x-python",
   "name": "python",
   "nbconvert_exporter": "python",
   "pygments_lexer": "ipython3",
   "version": "3.6.8"
  }
 },
 "nbformat": 4,
 "nbformat_minor": 2
}
