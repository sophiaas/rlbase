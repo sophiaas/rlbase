{
 "cells": [
  {
   "cell_type": "code",
   "execution_count": 1,
   "metadata": {},
   "outputs": [],
   "source": [
    "import numpy as np\n",
    "import pandas as pd\n",
    "import matplotlib\n",
    "import matplotlib.pyplot as plt\n",
    "import os\n",
    "%matplotlib inline"
   ]
  },
  {
   "cell_type": "code",
   "execution_count": 2,
   "metadata": {},
   "outputs": [],
   "source": [
    "def get_option_termination_states(options, states, n_options=4):\n",
    "    termination_states = {x: [] for x in range(n_options)}\n",
    "    for episode in range(len(options)):\n",
    "        option_trajectory = options[episode]\n",
    "        for i in range(len(option_trajectory)-1):\n",
    "            if option_trajectory[i] != option_trajectory[i+1]:\n",
    "                term_state = states[episode][i-1]\n",
    "#                 if term_state not in termination_states[option_trajectory[i]]:\n",
    "                termination_states[option_trajectory[i]].append(term_state)\n",
    "    return termination_states\n",
    "\n",
    "\n",
    "def coords_to_onehot(coords, boundaries):\n",
    "    dim = np.prod(boundaries)\n",
    "    w, h = boundaries\n",
    "    x = np.zeros(dim)\n",
    "    idx = coords[0] * w + coords[1]  # this should be w !!!!!!\n",
    "    x[idx] = 1\n",
    "    return x\n"
   ]
  },
  {
   "cell_type": "code",
   "execution_count": 3,
   "metadata": {},
   "outputs": [],
   "source": [
    "def load_episode_data(directory, exclude=None):\n",
    "    files = [f for f in os.listdir(directory) if os.path.isfile(directory+f)]\n",
    "    episode_data = pd.DataFrame()\n",
    "    for f in files:\n",
    "        episode_data = episode_data.append(pd.read_pickle(directory+f), ignore_index=True)\n",
    "    episode_data = episode_data.sort_values('episode')\n",
    "    episode_data = episode_data.reset_index(drop=True)\n",
    "    episode_data.episode = [int(x) for x in episode_data.episode]\n",
    "#     episode_data = episode_data[['episode', 'action', 'reward', 'state', 'logprob', 'mask']]\n",
    "    return episode_data"
   ]
  },
  {
   "cell_type": "code",
   "execution_count": 4,
   "metadata": {},
   "outputs": [],
   "source": [
    "def get_terms(terminations, coords, options, n_options=4):\n",
    "    termination_states = {x: [] for x in range(n_options)}\n",
    "    for i, episode in enumerate(terminations):\n",
    "        for j, term in enumerate(episode):\n",
    "            if term and j > 0:\n",
    "                termination_states[options[i][j-1]].append(coords[i][j])\n",
    "    return termination_states"
   ]
  },
  {
   "cell_type": "code",
   "execution_count": 10,
   "metadata": {},
   "outputs": [],
   "source": [
    "def unpack_env_data(df):\n",
    "    keys = list(df.env_data)[0][0].keys()\n",
    "    for k in keys:\n",
    "        df[k] = [[x[k] for x in y] for y in df.env_data]\n",
    "    return df"
   ]
  },
  {
   "cell_type": "code",
   "execution_count": 132,
   "metadata": {},
   "outputs": [],
   "source": [
    "def simulate_step(df, episode, current_idx):\n",
    "    for key, item in df.env_data[episode][current_idx].items():\n",
    "        print('{}: {}'.format(key, item))\n",
    "    print('action: {}'.format(df.action[episode][current_idx]))\n",
    "    print('reward: {}'.format(df.reward[episode][current_idx]))\n",
    "    return current_idx + 1"
   ]
  },
  {
   "cell_type": "code",
   "execution_count": 58,
   "metadata": {},
   "outputs": [],
   "source": [
    "summary = pd.read_pickle('../experiments/ppo3_done_gamma1_reward100_ppo_lightbot_cross/summary.p')"
   ]
  },
  {
   "cell_type": "code",
   "execution_count": 7,
   "metadata": {},
   "outputs": [],
   "source": [
    "df = load_episode_data('../experiments/ppo4_nodecay_3e-4_gamma09_ppo_lightbot_cross/episodes/')"
   ]
  },
  {
   "cell_type": "code",
   "execution_count": 8,
   "metadata": {},
   "outputs": [],
   "source": [
    "df['total_reward'] = [np.sum(x) for x in df.reward]"
   ]
  },
  {
   "cell_type": "code",
   "execution_count": 11,
   "metadata": {},
   "outputs": [],
   "source": [
    "df = unpack_env_data(df)"
   ]
  },
  {
   "cell_type": "code",
   "execution_count": 15,
   "metadata": {},
   "outputs": [
    {
     "data": {
      "text/plain": [
       "[<matplotlib.lines.Line2D at 0x7f7bb5892dd8>]"
      ]
     },
     "execution_count": 15,
     "metadata": {},
     "output_type": "execute_result"
    },
    {
     "data": {
      "image/png": "[encoded data removed]",
      "text/plain": [
       "<Figure size 432x288 with 1 Axes>"
      ]
     },
     "metadata": {
      "needs_background": "light"
     },
     "output_type": "display_data"
    }
   ],
   "source": [
    "every=150\n",
    "plt.plot(df.episode[::every], df.total_reward[::every])"
   ]
  },
  {
   "cell_type": "code",
   "execution_count": null,
   "metadata": {},
   "outputs": [],
   "source": []
  },
  {
   "cell_type": "code",
   "execution_count": 70,
   "metadata": {},
   "outputs": [],
   "source": [
    "T = get_terms(df.terminate, df.coords, df.option)"
   ]
  },
  {
   "cell_type": "code",
   "execution_count": 133,
   "metadata": {},
   "outputs": [],
   "source": [
    "idx = 0"
   ]
  },
  {
   "cell_type": "code",
   "execution_count": 208,
   "metadata": {},
   "outputs": [
    {
     "name": "stdout",
     "output_type": "stream",
     "text": [
      "coords: (0, 0)\n",
      "height: 1\n",
      "direction: 1\n",
      "light_idx: -1\n",
      "lights_on: [0 0 0 0 0 0 1 0 0 0 1 0]\n",
      "action: 0\n",
      "reward: -1.0\n"
     ]
    }
   ],
   "source": [
    "idx = simulate_step(df, 0, idx)"
   ]
  },
  {
   "cell_type": "code",
   "execution_count": 136,
   "metadata": {},
   "outputs": [
    {
     "data": {
      "text/plain": [
       "action          [2, 2, 2, 1, 1, 2, 3, 2, 2, 2, 2, 3, 1, 4, 3, ...\n",
       "env_data        [{'coords': (0, 0), 'height': 1, 'direction': ...\n",
       "episode                                                         0\n",
       "logprob         [-1.4334884881973267, -1.4334884881973267, -1....\n",
       "mask            [1, 1, 1, 1, 1, 1, 1, 1, 1, 1, 1, 1, 1, 1, 1, ...\n",
       "reward          [-1.0, -1.0, -1.0, -1.0, -1.0, -1.0, -1.0, -1....\n",
       "state           [[0.0, 0.0, 0.0, 0.0, 0.0, 0.0, 0.0, 0.0, 0.0,...\n",
       "total_reward                                                 -223\n",
       "coords          [(0, 0), (0, 0), (0, 0), (0, 0), (0, 0), (0, 0...\n",
       "height          [1, 1, 1, 1, 1, 1, 1, 1, 1, 1, 1, 1, 2, 2, 2, ...\n",
       "direction       [0, 0, 0, 0, 0, 0, 3, 3, 3, 3, 3, 2, 2, 3, 2, ...\n",
       "light_idx       [-1, -1, -1, -1, -1, -1, -1, -1, -1, -1, -1, -...\n",
       "lights_on       [[0, 0, 0, 0, 0, 0, 0, 0, 0, 0, 0, 0], [0, 0, ...\n",
       "Name: 0, dtype: object"
      ]
     },
     "execution_count": 136,
     "metadata": {},
     "output_type": "execute_result"
    }
   ],
   "source": [
    "df.loc[0]"
   ]
  },
  {
   "cell_type": "code",
   "execution_count": 31,
   "metadata": {},
   "outputs": [
    {
     "data": {
      "text/plain": [
       "20000"
      ]
     },
     "execution_count": 31,
     "metadata": {},
     "output_type": "execute_result"
    }
   ],
   "source": [
    "len(df)"
   ]
  },
  {
   "cell_type": "code",
   "execution_count": 19,
   "metadata": {},
   "outputs": [],
   "source": [
    "df['coords'] = [[x['coords'] for x in y] for y in df.env_data]"
   ]
  },
  {
   "cell_type": "code",
   "execution_count": 89,
   "metadata": {},
   "outputs": [],
   "source": [
    "term_states = get_option_termination_states(list(df.option)[15000:], list(df.coords)[15000:])"
   ]
  },
  {
   "cell_type": "code",
   "execution_count": 77,
   "metadata": {},
   "outputs": [
    {
     "data": {
      "text/plain": [
       "4"
      ]
     },
     "execution_count": 77,
     "metadata": {},
     "output_type": "execute_result"
    }
   ],
   "source": [
    "len(term_states)"
   ]
  },
  {
   "cell_type": "code",
   "execution_count": 49,
   "metadata": {},
   "outputs": [],
   "source": [
    "def plot_treads(coords, gridsize):\n",
    "    grid = np.zeros(gridsize)\n",
    "    for episode in coords:\n",
    "        for state in episode:\n",
    "            grid[state[0], state[1]] += 1\n",
    "    return grid"
   ]
  },
  {
   "cell_type": "code",
   "execution_count": 56,
   "metadata": {},
   "outputs": [],
   "source": [
    "inits = [[x[0]] for x in df.coords]\n",
    "G = plot_treads(inits, (5,5))"
   ]
  },
  {
   "cell_type": "code",
   "execution_count": 55,
   "metadata": {},
   "outputs": [],
   "source": [
    "init_dir = [x[0] for x in df.direction]"
   ]
  },
  {
   "cell_type": "code",
   "execution_count": 34,
   "metadata": {},
   "outputs": [],
   "source": [
    "dirs = [y for x in df.direction for y in x]"
   ]
  },
  {
   "cell_type": "code",
   "execution_count": 27,
   "metadata": {},
   "outputs": [
    {
     "data": {
      "image/png": "[encoded data removed]",
      "text/plain": [
       "<Figure size 432x288 with 1 Axes>"
      ]
     },
     "metadata": {
      "needs_background": "light"
     },
     "output_type": "display_data"
    }
   ],
   "source": [
    "plt.hist(init_dir);"
   ]
  },
  {
   "cell_type": "code",
   "execution_count": 57,
   "metadata": {},
   "outputs": [
    {
     "data": {
      "text/plain": [
       "<matplotlib.colorbar.Colorbar at 0x7f7bab348668>"
      ]
     },
     "execution_count": 57,
     "metadata": {},
     "output_type": "execute_result"
    },
    {
     "data": {
      "image/png": "[encoded data removed]",
      "text/plain": [
       "<Figure size 288x288 with 2 Axes>"
      ]
     },
     "metadata": {
      "needs_background": "light"
     },
     "output_type": "display_data"
    }
   ],
   "source": [
    "plt.matshow(G)\n",
    "plt.colorbar()"
   ]
  },
  {
   "cell_type": "code",
   "execution_count": 39,
   "metadata": {},
   "outputs": [],
   "source": [
    "def termination_grids(term_states, gridsize):\n",
    "    n_options = len(term_states)\n",
    "    grids = {x: np.zeros(gridsize) for x in range(n_options)}\n",
    "    for o in range(n_options):\n",
    "        for s in term_states[o]:\n",
    "            grids[o][s] += 1\n",
    "    return grids"
   ]
  },
  {
   "cell_type": "code",
   "execution_count": 90,
   "metadata": {},
   "outputs": [],
   "source": [
    "grids = termination_grids(term_states, (13,13))"
   ]
  },
  {
   "cell_type": "code",
   "execution_count": 91,
   "metadata": {},
   "outputs": [
    {
     "data": {
      "image/png": "[encoded data removed]",
      "text/plain": [
       "<Figure size 288x288 with 1 Axes>"
      ]
     },
     "metadata": {
      "needs_background": "light"
     },
     "output_type": "display_data"
    },
    {
     "data": {
      "image/png": "[encoded data removed]",
      "text/plain": [
       "<Figure size 288x288 with 1 Axes>"
      ]
     },
     "metadata": {
      "needs_background": "light"
     },
     "output_type": "display_data"
    },
    {
     "data": {
      "image/png": "[encoded data removed]",
      "text/plain": [
       "<Figure size 288x288 with 1 Axes>"
      ]
     },
     "metadata": {
      "needs_background": "light"
     },
     "output_type": "display_data"
    },
    {
     "data": {
      "image/png": "[encoded data removed]",
      "text/plain": [
       "<Figure size 288x288 with 1 Axes>"
      ]
     },
     "metadata": {
      "needs_background": "light"
     },
     "output_type": "display_data"
    }
   ],
   "source": [
    "for i,grid in grids.items():\n",
    "    plt.matshow(grid)"
   ]
  },
  {
   "cell_type": "code",
   "execution_count": null,
   "metadata": {},
   "outputs": [],
   "source": []
  }
 ],
 "metadata": {
  "kernelspec": {
   "display_name": "Python 3",
   "language": "python",
   "name": "python3"
  },
  "language_info": {
   "codemirror_mode": {
    "name": "ipython",
    "version": 3
   },
   "file_extension": ".py",
   "mimetype": "text/x-python",
   "name": "python",
   "nbconvert_exporter": "python",
   "pygments_lexer": "ipython3",
   "version": "3.6.8"
  }
 },
 "nbformat": 4,
 "nbformat_minor": 2
}
